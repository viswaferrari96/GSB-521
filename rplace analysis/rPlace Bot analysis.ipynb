{
 "cells": [
  {
   "cell_type": "code",
   "execution_count": null,
   "id": "5c7b161f",
   "metadata": {},
   "outputs": [],
   "source": [
    "!pip install pandas dask[complete] pyarrow"
   ]
  },
  {
   "cell_type": "code",
   "execution_count": 1,
   "id": "a27c086d",
   "metadata": {},
   "outputs": [],
   "source": [
    "import dask.dataframe as dd\n",
    "import os\n",
    "import pandas as pd\n",
    "import matplotlib.pyplot as plt"
   ]
  },
  {
   "cell_type": "code",
   "execution_count": 10,
   "id": "5e358c30",
   "metadata": {},
   "outputs": [],
   "source": [
    "from tqdm import tqdm\n",
    "from tqdm.dask import TqdmCallback"
   ]
  },
  {
   "cell_type": "code",
   "execution_count": 21,
   "id": "abfcce0a",
   "metadata": {},
   "outputs": [
    {
     "name": "stdout",
     "output_type": "stream",
     "text": [
      "Converted 2023_place_canvas_history-000000000001.csv to Parquet format and saved to /rplace/rplace_parquet\\2023_place_canvas_history-000000000001.csv.parquet\n"
     ]
    }
   ],
   "source": [
    "def convert_csv_to_parquet(url, output_dir):\n",
    "    #output directory\n",
    "    os.makedirs(output_dir, exist_ok=True)\n",
    "\n",
    "    # Extracting file name and setting Parquet file path\n",
    "    file_name = url.split(\"/\")[-1].replace(\".gzip\", \"\")\n",
    "    parquet_path = os.path.join(output_dir, file_name + \".parquet\")\n",
    "\n",
    "    # convert to Parquet\n",
    "    ddf = dd.read_csv(url, compression='gzip', blocksize=None)\n",
    "    ddf.to_parquet(parquet_path)\n",
    "\n",
    "    print(f\"Converted {file_name} to Parquet format and saved to {parquet_path}\")\n",
    "\n",
    "# CSV file URLs\n",
    "file_urls = [\n",
    "    \"https://placedata.reddit.com/data/canvas-history/2023/2023_place_canvas_history-000000000000.csv.gzip\",\n",
    "    \"https://placedata.reddit.com/data/canvas-history/2023/2023_place_canvas_history-000000000001.csv.gzip\",\n",
    "    \"https://placedata.reddit.com/data/canvas-history/2023/2023_place_canvas_history-000000000002.csv.gzip\",\n",
    "    \"https://placedata.reddit.com/data/canvas-history/2023/2023_place_canvas_history-000000000003.csv.gzip\",\n",
    "    \"https://placedata.reddit.com/data/canvas-history/2023/2023_place_canvas_history-000000000004.csv.gzip\",\n",
    "    \"https://placedata.reddit.com/data/canvas-history/2023/2023_place_canvas_history-000000000005.csv.gzip\",\n",
    "    \"https://placedata.reddit.com/data/canvas-history/2023/2023_place_canvas_history-000000000006.csv.gzip\",\n",
    "    \"https://placedata.reddit.com/data/canvas-history/2023/2023_place_canvas_history-000000000007.csv.gzip\",\n",
    "    \"https://placedata.reddit.com/data/canvas-history/2023/2023_place_canvas_history-000000000008.csv.gzip\",\n",
    "    \"https://placedata.reddit.com/data/canvas-history/2023/2023_place_canvas_history-000000000009.csv.gzip\",\n",
    "    \"https://placedata.reddit.com/data/canvas-history/2023/2023_place_canvas_history-000000000010.csv.gzip\",\n",
    "    \"https://placedata.reddit.com/data/canvas-history/2023/2023_place_canvas_history-000000000011.csv.gzip\",\n",
    "    \"https://placedata.reddit.com/data/canvas-history/2023/2023_place_canvas_history-000000000012.csv.gzip\",\n",
    "    \"https://placedata.reddit.com/data/canvas-history/2023/2023_place_canvas_history-000000000013.csv.gzip\",\n",
    "    \"https://placedata.reddit.com/data/canvas-history/2023/2023_place_canvas_history-000000000014.csv.gzip\",\n",
    "    \"https://placedata.reddit.com/data/canvas-history/2023/2023_place_canvas_history-000000000015.csv.gzip\",\n",
    "    \"https://placedata.reddit.com/data/canvas-history/2023/2023_place_canvas_history-000000000016.csv.gzip\",\n",
    "    \"https://placedata.reddit.com/data/canvas-history/2023/2023_place_canvas_history-000000000017.csv.gzip\",\n",
    "    \"https://placedata.reddit.com/data/canvas-history/2023/2023_place_canvas_history-000000000018.csv.gzip\",\n",
    "    \"https://placedata.reddit.com/data/canvas-history/2023/2023_place_canvas_history-000000000019.csv.gzip\",\n",
    "    \"https://placedata.reddit.com/data/canvas-history/2023/2023_place_canvas_history-000000000020.csv.gzip\",\n",
    "    \"https://placedata.reddit.com/data/canvas-history/2023/2023_place_canvas_history-000000000021.csv.gzip\",\n",
    "    \"https://placedata.reddit.com/data/canvas-history/2023/2023_place_canvas_history-000000000022.csv.gzip\",\n",
    "    \"https://placedata.reddit.com/data/canvas-history/2023/2023_place_canvas_history-000000000023.csv.gzip\",\n",
    "    \"https://placedata.reddit.com/data/canvas-history/2023/2023_place_canvas_history-000000000024.csv.gzip\",\n",
    "    \"https://placedata.reddit.com/data/canvas-history/2023/2023_place_canvas_history-000000000025.csv.gzip\",\n",
    "    \"https://placedata.reddit.com/data/canvas-history/2023/2023_place_canvas_history-000000000026.csv.gzip\",\n",
    "    \"https://placedata.reddit.com/data/canvas-history/2023/2023_place_canvas_history-000000000027.csv.gzip\",\n",
    "    \"https://placedata.reddit.com/data/canvas-history/2023/2023_place_canvas_history-000000000028.csv.gzip\",\n",
    "    \"https://placedata.reddit.com/data/canvas-history/2023/2023_place_canvas_history-000000000029.csv.gzip\",\n",
    "    \"https://placedata.reddit.com/data/canvas-history/2023/2023_place_canvas_history-000000000030.csv.gzip\",\n",
    "    \"https://placedata.reddit.com/data/canvas-history/2023/2023_place_canvas_history-000000000031.csv.gzip\",\n",
    "    \"https://placedata.reddit.com/data/canvas-history/2023/2023_place_canvas_history-000000000032.csv.gzip\",\n",
    "    \"https://placedata.reddit.com/data/canvas-history/2023/2023_place_canvas_history-000000000033.csv.gzip\",\n",
    "    \"https://placedata.reddit.com/data/canvas-history/2023/2023_place_canvas_history-000000000034.csv.gzip\",\n",
    "    \"https://placedata.reddit.com/data/canvas-history/2023/2023_place_canvas_history-000000000035.csv.gzip\",\n",
    "    \"https://placedata.reddit.com/data/canvas-history/2023/2023_place_canvas_history-000000000036.csv.gzip\",\n",
    "    \"https://placedata.reddit.com/data/canvas-history/2023/2023_place_canvas_history-000000000037.csv.gzip\",\n",
    "    \"https://placedata.reddit.com/data/canvas-history/2023/2023_place_canvas_history-000000000038.csv.gzip\",\n",
    "    \"https://placedata.reddit.com/data/canvas-history/2023/2023_place_canvas_history-000000000039.csv.gzip\",\n",
    "    \"https://placedata.reddit.com/data/canvas-history/2023/2023_place_canvas_history-000000000040.csv.gzip\",\n",
    "    \"https://placedata.reddit.com/data/canvas-history/2023/2023_place_canvas_history-000000000041.csv.gzip\",\n",
    "    \"https://placedata.reddit.com/data/canvas-history/2023/2023_place_canvas_history-000000000042.csv.gzip\",\n",
    "    \"https://placedata.reddit.com/data/canvas-history/2023/2023_place_canvas_history-000000000043.csv.gzip\",\n",
    "    \"https://placedata.reddit.com/data/canvas-history/2023/2023_place_canvas_history-000000000044.csv.gzip\",\n",
    "    \"https://placedata.reddit.com/data/canvas-history/2023/2023_place_canvas_history-000000000045.csv.gzip\",\n",
    "    \"https://placedata.reddit.com/data/canvas-history/2023/2023_place_canvas_history-000000000046.csv.gzip\",\n",
    "    \"https://placedata.reddit.com/data/canvas-history/2023/2023_place_canvas_history-000000000047.csv.gzip\",\n",
    "    \"https://placedata.reddit.com/data/canvas-history/2023/2023_place_canvas_history-000000000048.csv.gzip\",\n",
    "    \"https://placedata.reddit.com/data/canvas-history/2023/2023_place_canvas_history-000000000049.csv.gzip\",\n",
    "    \"https://placedata.reddit.com/data/canvas-history/2023/2023_place_canvas_history-000000000050.csv.gzip\",\n",
    "    \"https://placedata.reddit.com/data/canvas-history/2023/2023_place_canvas_history-000000000051.csv.gzip\",\n",
    "    \"https://placedata.reddit.com/data/canvas-history/2023/2023_place_canvas_history-000000000052.csv.gzip\"\n",
    "]\n",
    "output_parquet_dir = \"/rplace/rplace_parquet\"\n",
    "\n",
    "for url in file_urls:\n",
    "    convert_csv_to_parquet(url, output_parquet_dir)\n"
   ]
  },
  {
   "cell_type": "code",
   "execution_count": 6,
   "id": "6c1cd7a7",
   "metadata": {},
   "outputs": [
    {
     "name": "stdout",
     "output_type": "stream",
     "text": [
      "Requirement already satisfied: tqdm in c:\\users\\viswa\\anaconda3\\lib\\site-packages (4.65.0)\n",
      "Requirement already satisfied: colorama in c:\\users\\viswa\\anaconda3\\lib\\site-packages (from tqdm) (0.4.6)\n"
     ]
    }
   ],
   "source": [
    "!pip install tqdm"
   ]
  },
  {
   "cell_type": "code",
   "execution_count": 9,
   "id": "7078782f",
   "metadata": {},
   "outputs": [],
   "source": [
    "def log_progress(sequence, every=None, size=None, name='Items'):\n",
    "    from ipywidgets import IntProgress, HTML, VBox\n",
    "    from IPython.display import display\n",
    "\n",
    "    is_iterator = False\n",
    "    if size is None:\n",
    "        try:\n",
    "            size = len(sequence)\n",
    "        except TypeError:\n",
    "            is_iterator = True\n",
    "    if size is not None:\n",
    "        if every is None:\n",
    "            if size <= 200:\n",
    "                every = 1\n",
    "            else:\n",
    "                every = int(size / 200)     # every 0.5%\n",
    "    else:\n",
    "        assert every is not None, 'sequence is iterator, set every'\n",
    "\n",
    "    if is_iterator:\n",
    "        progress = IntProgress(min=0, max=1, value=1)\n",
    "        progress.bar_style = 'info'\n",
    "    else:\n",
    "        progress = IntProgress(min=0, max=size, value=0)\n",
    "    label = HTML()\n",
    "    box = VBox(children=[label, progress])\n",
    "    display(box)\n",
    "\n",
    "    index = 0\n",
    "    try:\n",
    "        for index, record in enumerate(sequence, 1):\n",
    "            if index == 1 or index % every == 0:\n",
    "                if is_iterator:\n",
    "                    label.value = '{name}: {index} / ?'.format(\n",
    "                        name=name,\n",
    "                        index=index\n",
    "                    )\n",
    "                else:\n",
    "                    progress.value = index\n",
    "                    label.value = u'{name}: {index} / {size}'.format(\n",
    "                        name=name,\n",
    "                        index=index,\n",
    "                        size=size\n",
    "                    )\n",
    "            yield record\n",
    "    except:\n",
    "        progress.bar_style = 'danger'\n",
    "        raise\n",
    "    else:\n",
    "        progress.bar_style = 'success'\n",
    "        progress.value = index\n",
    "        label.value = \"{name}: {index}\".format(\n",
    "            name=name,\n",
    "            index=str(index or '?')\n",
    "        )"
   ]
  },
  {
   "cell_type": "code",
   "execution_count": 11,
   "id": "4367b9b0",
   "metadata": {},
   "outputs": [],
   "source": [
    "output_parquet_dir = \"/rplace/rplace_parquet\"\n",
    "\n",
    "parquet_files = []\n",
    "for root, dirs, files in os.walk(output_parquet_dir):\n",
    "    for file in files:\n",
    "        if file.endswith(\".parquet\"):\n",
    "            parquet_files.append(os.path.join(root, file))"
   ]
  },
  {
   "cell_type": "code",
   "execution_count": 13,
   "id": "ab661a50",
   "metadata": {},
   "outputs": [
    {
     "name": "stdout",
     "output_type": "stream",
     "text": [
      "                     timestamp  \\\n",
      "0  2023-07-20 13:00:26.088 UTC   \n",
      "1  2023-07-20 13:00:43.658 UTC   \n",
      "2  2023-07-20 13:00:43.705 UTC   \n",
      "3  2023-07-20 13:01:02.487 UTC   \n",
      "4  2023-07-20 13:01:40.445 UTC   \n",
      "\n",
      "                                                user coordinate pixel_color  \n",
      "0  no+8HEIDjbdx7/LxH9Xr+h4lyoar0MRTYugWKrGdQOg7dF...  -199,-235     #FFFFFF  \n",
      "1  qJ7O6cuUNfkDyn+ZOEYR+UiVEmAu/vYfm/s4hK0XJytqAx...     0,-298     #FF4500  \n",
      "2  uqi5XwkBePwcPKJgGOxHKzzzXuZKU6iKZT+OVfUJfaRKek...   -42,-218     #FFFFFF  \n",
      "3  rgSTj7FHZUHsLXZLLNj9+vxibHIowb2+UhfFLDYgsVBXqI...  -418,-232     #B44AC0  \n",
      "4  2bmivBNj8NYvnp/15k0EqC+75T1OxTtCUcRG2pf0c5btzF...    182,164     #FF4500  \n"
     ]
    }
   ],
   "source": [
    "all_data = dd.read_parquet(parquet_files)\n",
    "\n",
    "print(all_data.head())\n"
   ]
  },
  {
   "cell_type": "code",
   "execution_count": 14,
   "id": "c66f30b7",
   "metadata": {},
   "outputs": [
    {
     "data": {
      "application/vnd.jupyter.widget-view+json": {
       "model_id": "4bd94379fd084bd6a3089172dc8ce78a",
       "version_major": 2,
       "version_minor": 0
      },
      "text/plain": [
       "Compute unique users:   0%|          | 0/64 [00:00<?, ?it/s]"
      ]
     },
     "metadata": {},
     "output_type": "display_data"
    },
    {
     "name": "stdout",
     "output_type": "stream",
     "text": [
      "Unique Users: 8589732\n"
     ]
    }
   ],
   "source": [
    "# Dask computations\n",
    "with TqdmCallback(desc=\"Compute unique users\", total=len(all_data)):\n",
    "    unique_users = all_data['user'].nunique().compute()\n",
    "print(f\"Unique Users: {unique_users}\")"
   ]
  },
  {
   "cell_type": "code",
   "execution_count": 15,
   "id": "ef3247e5",
   "metadata": {},
   "outputs": [
    {
     "data": {
      "application/vnd.jupyter.widget-view+json": {
       "model_id": "eda7589746174fb1918134c0792275ab",
       "version_major": 2,
       "version_minor": 0
      },
      "text/plain": [
       "Count pixel_color:   0%|          | 0/55 [00:00<?, ?it/s]"
      ]
     },
     "metadata": {},
     "output_type": "display_data"
    },
    {
     "name": "stdout",
     "output_type": "stream",
     "text": [
      "134583993\n"
     ]
    }
   ],
   "source": [
    "with TqdmCallback(desc=\"Count pixel_color\", total=len(all_data)):\n",
    "    pixel_color_count = all_data['pixel_color'].count().compute()\n",
    "print(pixel_color_count)"
   ]
  },
  {
   "cell_type": "code",
   "execution_count": 16,
   "id": "d9cd872f",
   "metadata": {},
   "outputs": [
    {
     "data": {
      "application/vnd.jupyter.widget-view+json": {
       "model_id": "15af19824dcb4b9c919f7bafd8ff1249",
       "version_major": 2,
       "version_minor": 0
      },
      "text/plain": [
       "Compute total pixels placed:   0%|          | 0/112 [00:00<?, ?it/s]"
      ]
     },
     "metadata": {},
     "output_type": "display_data"
    },
    {
     "name": "stdout",
     "output_type": "stream",
     "text": [
      "Total Pixels Placed: 134583993\n"
     ]
    }
   ],
   "source": [
    "with TqdmCallback(desc=\"Compute total pixels placed\", total=len(all_data)):\n",
    "    total_pixels_placed = all_data.shape[0].compute()\n",
    "print(f\"Total Pixels Placed: {total_pixels_placed}\")"
   ]
  },
  {
   "cell_type": "code",
   "execution_count": 21,
   "id": "6a2c9d61",
   "metadata": {},
   "outputs": [
    {
     "data": {
      "application/vnd.jupyter.widget-view+json": {
       "model_id": "74c611f94fb8458d97ca07070876d026",
       "version_major": 2,
       "version_minor": 0
      },
      "text/plain": [
       "Compute most used colors:   0%|          | 0/62 [00:00<?, ?it/s]"
      ]
     },
     "metadata": {},
     "output_type": "display_data"
    },
    {
     "name": "stdout",
     "output_type": "stream",
     "text": [
      "#000000    29700429\n",
      "#FFFFFF    28163141\n",
      "#FF4500    18633451\n",
      "#FFD635     9732229\n",
      "#3690EA     7964702\n",
      "#2450A4     5559074\n",
      "#00A368     5122132\n",
      "#FFA800     5057878\n",
      "#FF99AA     2913962\n",
      "#B44AC0     2619045\n",
      "#D4D7D9     2600003\n",
      "#BE0039     2563864\n",
      "#51E9F4     2328028\n",
      "#7EED56     2085052\n",
      "#898D90     2038617\n",
      "#9C6926     1789308\n",
      "#811E9F     1193894\n",
      "#6D482F      683935\n",
      "#FF3881      559008\n",
      "#00CC78      444408\n",
      "#515252      438884\n",
      "#FFB470      410331\n",
      "#493AC1      397251\n",
      "#FFF8B8      292106\n",
      "#00756F      275618\n",
      "#6D001A      265459\n",
      "#6A5CFF      216133\n",
      "#DE107F      182128\n",
      "#009EAA      145749\n",
      "#E4ABFF       86778\n",
      "#94B3FF       61491\n",
      "#00CCC0       59905\n",
      "Name: pixel_color, dtype: int64\n"
     ]
    }
   ],
   "source": [
    "with TqdmCallback(desc=\"Compute most used colors\", total=len(all_data)):\n",
    "    most_used_colors = all_data['pixel_color'].value_counts().compute()\n",
    "print(most_used_colors.head(32))"
   ]
  },
  {
   "cell_type": "code",
   "execution_count": 2,
   "id": "5bc96917",
   "metadata": {},
   "outputs": [
    {
     "name": "stderr",
     "output_type": "stream",
     "text": [
      "C:\\Users\\viswa\\AppData\\Local\\Temp\\ipykernel_6360\\2780626194.py:5: MatplotlibDeprecationWarning: The seaborn styles shipped by Matplotlib are deprecated since 3.6, as they no longer correspond to the styles shipped by seaborn. However, they will remain available as 'seaborn-v0_8-<style>'. Alternatively, directly use the seaborn API instead.\n",
      "  plt.style.use('seaborn-whitegrid')\n"
     ]
    },
    {
     "data": {
      "image/png": "[encoded data removed]",
      "text/plain": [
       "<Figure size 1200x800 with 1 Axes>"
      ]
     },
     "metadata": {},
     "output_type": "display_data"
    }
   ],
   "source": [
    "import matplotlib.pyplot as plt\n",
    "import matplotlib.ticker as ticker\n",
    "\n",
    "# Use a light theme\n",
    "plt.style.use('seaborn-whitegrid')\n",
    "\n",
    "# Set the figure size\n",
    "plt.figure(figsize=(12, 8))\n",
    "\n",
    "# Your data\n",
    "colors = ['#000000', '#FFFFFF', '#FF4500', '#FFD635', '#3690EA', '#2450A4', '#00A368', '#FFA800', '#FF99AA', '#B44AC0', '#D4D7D9', '#BE0039', '#51E9F4', '#7EED56', '#898D90', '#9C6926', '#811E9F', '#6D482F', '#FF3881', '#00CC78', '#515252', '#FFB470', '#493AC1', '#FFF8B8', '#00756F', '#6D001A', '#6A5CFF', '#DE107F', '#009EAA', '#E4ABFF', '#94B3FF', '#00CCC0']\n",
    "counts = [29700429, 28163141, 18633451, 9732229, 7964702, 5559074, 5122132, 5057878, 2913962, 2619045, 2600003, 2563864, 2328028, 2085052, 2038617, 1789308, 1193894, 683935, 559008, 444408, 438884, 410331, 397251, 292106, 275618, 265459, 216133, 182128, 145749, 86778, 61491, 59905]\n",
    "\n",
    "# Color names or hex codes\n",
    "color_names = ['Black', 'White', 'Orange Red', 'Gold', 'Dodger Blue', 'Royal Blue', 'Medium Sea Green', 'Dark Orange', 'Light Pink', 'Medium Orchid', 'Light Gray', 'Dark Red', 'Deep Sky Blue', 'Lime Green', 'Slate Gray', 'Dark Goldenrod', 'Dark Violet', 'Saddle Brown', 'Deep Pink', 'Medium Sea Green', 'Dim Gray', 'Sandy Brown', 'Medium Blue', 'Light Yellow', 'Teal', 'Dark Red', 'Slate Blue', 'Deep Pink', 'Dark Cyan', 'Thistle', 'Light Steel Blue', 'Medium Turquoise']\n",
    "\n",
    "# Create bar graph with borders\n",
    "plt.bar(color_names, counts, color=colors, edgecolor='black', width=0.5)\n",
    "\n",
    "# Rotate x-axis labels for better visibility\n",
    "plt.xticks(rotation=90)\n",
    "\n",
    "# Format y-axis to display in millions\n",
    "formatter = ticker.FuncFormatter(lambda x, pos: '%1.1fM' % (x * 1e-6))\n",
    "plt.gca().yaxis.set_major_formatter(formatter)\n",
    "\n",
    "# Show the plot\n",
    "plt.show()\n"
   ]
  },
  {
   "cell_type": "code",
   "execution_count": 18,
   "id": "d5f9e460",
   "metadata": {},
   "outputs": [
    {
     "data": {
      "application/vnd.jupyter.widget-view+json": {
       "model_id": "7f529297bc614fd1884de29c453f71a4",
       "version_major": 2,
       "version_minor": 0
      },
      "text/plain": [
       "Counting user actions:   0%|          | 0/55 [00:00<?, ?it/s]"
      ]
     },
     "metadata": {},
     "output_type": "display_data"
    },
    {
     "name": "stdout",
     "output_type": "stream",
     "text": [
      "134583993\n"
     ]
    }
   ],
   "source": [
    "# Counting user actions with progress bar\n",
    "with TqdmCallback(desc=\"Counting user actions\"):\n",
    "    user_action_count = all_data['user'].count().compute()\n",
    "print(user_action_count)"
   ]
  },
  {
   "cell_type": "code",
   "execution_count": 19,
   "id": "90043122",
   "metadata": {},
   "outputs": [
    {
     "data": {
      "application/vnd.jupyter.widget-view+json": {
       "model_id": "39bfdcfa730940818d3dda9482c94643",
       "version_major": 2,
       "version_minor": 0
      },
      "text/plain": [
       "Counting coordinates:   0%|          | 0/62 [00:00<?, ?it/s]"
      ]
     },
     "metadata": {},
     "output_type": "display_data"
    }
   ],
   "source": [
    "with TqdmCallback(desc=\"Counting coordinates\"):\n",
    "    coord = all_data['coordinate'].value_counts().compute()"
   ]
  },
  {
   "cell_type": "code",
   "execution_count": null,
   "id": "c7538d0f",
   "metadata": {},
   "outputs": [],
   "source": [
    "with TqdmCallback(desc=\"Counting unique colors\"):\n",
    "    all_color_count = all_data['coordinate'].nunique().compute()\n",
    "\n",
    "print(coord)"
   ]
  },
  {
   "cell_type": "code",
   "execution_count": 11,
   "id": "36e0553f",
   "metadata": {},
   "outputs": [],
   "source": [
    "coordinate_changes = all_data['coordinate'].value_counts()\n",
    "top_10_coordinates = coordinate_changes.head(10).index.tolist()\n",
    "#number of times they are changed\n",
    "times_changed = coordinate_changes.head(10).values.tolist()"
   ]
  },
  {
   "cell_type": "code",
   "execution_count": 8,
   "id": "124b1b29",
   "metadata": {},
   "outputs": [
    {
     "data": {
      "image/png": "[encoded data removed]",
      "text/plain": [
       "<Figure size 1000x600 with 1 Axes>"
      ]
     },
     "metadata": {},
     "output_type": "display_data"
    }
   ],
   "source": [
    "# Top 10 Most Changed Pixels\n",
    "plt.figure(figsize=(10, 6))\n",
    "plt.barh(top_10_coordinates, times_changed, color='skyblue')\n",
    "plt.ylabel('Coordinates')\n",
    "plt.xlabel('Times Changed')\n",
    "plt.title('Top 10 Most Changed Pixels')\n",
    "plt.gca().invert_yaxis()\n",
    "plt.show()"
   ]
  },
  {
   "cell_type": "code",
   "execution_count": 22,
   "id": "24dfbb77",
   "metadata": {},
   "outputs": [
    {
     "data": {
      "application/vnd.jupyter.widget-view+json": {
       "model_id": "4aa6e6e58fc748dfbbf4f988eafca5f0",
       "version_major": 2,
       "version_minor": 0
      },
      "text/plain": [
       "Grouping by coordinate:   0%|          | 0/62 [00:00<?, ?it/s]"
      ]
     },
     "metadata": {},
     "output_type": "display_data"
    },
    {
     "name": "stdout",
     "output_type": "stream",
     "text": [
      "Number of pixels placed once and never changed: 24299\n"
     ]
    }
   ],
   "source": [
    "with TqdmCallback(desc=\"Grouping by coordinate\"):\n",
    "    pixel_placement_counts = all_data.groupby('coordinate').size().compute()\n",
    "\n",
    "untouched_pixels = pixel_placement_counts[pixel_placement_counts == 1]\n",
    "untouched_pixel_coordinates = untouched_pixels.index.tolist()\n",
    "\n",
    "\n",
    "num_untouched_pixels = len(untouched_pixel_coordinates)\n",
    "print(f\"Number of pixels placed once and never changed: {num_untouched_pixels}\")"
   ]
  },
  {
   "cell_type": "code",
   "execution_count": 23,
   "id": "160c4d4c",
   "metadata": {},
   "outputs": [
    {
     "data": {
      "application/vnd.jupyter.widget-view+json": {
       "model_id": "20c9bd2a8efd4fb4bbff89d8743fa753",
       "version_major": 2,
       "version_minor": 0
      },
      "text/plain": [
       "Computing user pixel counts:   0%|          | 0/62 [00:00<?, ?it/s]"
      ]
     },
     "metadata": {},
     "output_type": "display_data"
    }
   ],
   "source": [
    "from tqdm.dask import TqdmCallback\n",
    "import dask.dataframe as dd\n",
    "import pandas as pd\n",
    "import matplotlib.pyplot as plt\n",
    "import numpy as np\n",
    "\n",
    "# Convert 'timestamp' to datetime\n",
    "all_data['timestamp'] = dd.to_datetime(all_data['timestamp'])\n",
    "\n",
    "# Compute user pixel counts\n",
    "with TqdmCallback(desc=\"Computing user pixel counts\"):\n",
    "    user_pixel_counts = all_data.groupby('user').size().compute()\n",
    "\n",
    "suspected_bots = user_pixel_counts[user_pixel_counts > 450]\n"
   ]
  },
  {
   "cell_type": "code",
   "execution_count": 37,
   "id": "67caf722",
   "metadata": {},
   "outputs": [
    {
     "name": "stdout",
     "output_type": "stream",
     "text": [
      "count    8603.000000\n",
      "mean      634.144484\n",
      "std       245.513178\n",
      "min       451.000000\n",
      "25%       495.000000\n",
      "50%       564.000000\n",
      "75%       690.000000\n",
      "max      7504.000000\n",
      "dtype: float64\n"
     ]
    }
   ],
   "source": [
    "print(suspected_bots.describe())"
   ]
  },
  {
   "cell_type": "code",
   "execution_count": 24,
   "id": "5fc1f099",
   "metadata": {},
   "outputs": [],
   "source": [
    "def analyze_user_intervals(user_data):\n",
    "    user_data = user_data.sort_values('timestamp')\n",
    "    time_diffs = user_data['timestamp'].diff().dropna()\n",
    "    return pd.Series({'mean_interval': time_diffs.mean(), 'std_interval': time_diffs.std()})\n",
    "\n",
    "meta = {'mean_interval': 'timedelta64[ns]', 'std_interval': 'timedelta64[ns]'}"
   ]
  },
  {
   "cell_type": "code",
   "execution_count": null,
   "id": "c1514e6f",
   "metadata": {},
   "outputs": [],
   "source": [
    "with TqdmCallback(desc=\"Computing interval analysis\"):\n",
    "    interval_analysis = all_data.groupby('user').apply(analyze_user_intervals, meta=meta).compute()\n",
    "\n",
    "interval_analysis['std_interval_minutes'] = interval_analysis['std_interval'].dt.total_seconds() / 60"
   ]
  },
  {
   "cell_type": "code",
   "execution_count": null,
   "id": "cf6973a8",
   "metadata": {},
   "outputs": [],
   "source": [
    "with TqdmCallback(desc=\"Converting to Pandas DataFrame\"):\n",
    "    all_data_pd = all_data.compute()\n",
    "\n",
    "suspected_bot_actions = all_data_pd[all_data_pd['user'].isin(suspected_bots.index)]\n",
    "suspected_bot_actions.sort_values(['user', 'timestamp'], inplace=True)\n",
    "suspected_bot_actions['time_diff'] = suspected_bot_actions.groupby('user')['timestamp'].diff()\n",
    "\n",
    "print(suspected_bot_actions.groupby('user')['time_diff'].describe())"
   ]
  },
  {
   "cell_type": "code",
   "execution_count": null,
   "id": "bc89510c",
   "metadata": {},
   "outputs": [],
   "source": [
    "suspected_bot_actions['time_diff_seconds'] = suspected_bot_actions['time_diff'].dt.total_seconds()\n",
    "interval_stats = suspected_bot_actions.groupby('user')['time_diff_seconds'].agg(['mean', 'std'])\n",
    "\n",
    "interval_stats['std_minutes'] = interval_stats['std'] / 60\n",
    "\n",
    "plt.figure(figsize=(10, 6))\n",
    "interval_stats['std_minutes'].hist(bins=50, color='blue', edgecolor='black')\n",
    "plt.title('Standard Deviation of Time Intervals for Suspected Bots')\n",
    "plt.xlabel('Standard Deviation of Intervals (minutes)')\n",
    "plt.ylabel('Number of Users')\n",
    "plt.show()"
   ]
  },
  {
   "cell_type": "code",
   "execution_count": null,
   "id": "4ca2ced4",
   "metadata": {},
   "outputs": [],
   "source": [
    "with TqdmCallback(desc=\"Computing pixel placement counts\"):\n",
    "    pixel_placement_counts = all_data.groupby('coordinate').size().compute()\n",
    "\n",
    "untouched_pixels = pixel_placement_counts[pixel_placement_counts == 1]\n",
    "untouched_pixel_coordinates = untouched_pixels.index.tolist()\n",
    "\n",
    "print(f\"Number of pixels placed once and never changed: {len(untouched_pixel_coordinates)}\")\n",
    "print(\"Sample of untouched pixel coordinates:\", untouched_pixel_coordinates[:10])"
   ]
  },
  {
   "cell_type": "code",
   "execution_count": null,
   "id": "1fc0fb6e",
   "metadata": {},
   "outputs": [],
   "source": [
    "bot_pixel_coords = suspected_bot_actions['coordinate'].value_counts()\n",
    "\n",
    "top_bot_coords = bot_pixel_coords.head(10)\n",
    "print(\"Top 10 coordinates most affected by bots:\", top_bot_coords)"
   ]
  },
  {
   "cell_type": "code",
   "execution_count": null,
   "id": "d77b93d2",
   "metadata": {},
   "outputs": [],
   "source": [
    "final_bot_actions = suspected_bot_actions.groupby('user').apply(lambda x: x.sort_values(by='timestamp').iloc[-1])\n",
    "\n",
    "common_coords = final_bot_actions['coordinate'].value_counts().head(10)\n",
    "common_colors = final_bot_actions['pixel_color'].value_counts().head(10)\n",
    "\n",
    "user_pixel_counts = final_bot_actions.groupby('user').size()\n",
    "\n",
    "# Filter out users with 10 or fewer pixel placements\n",
    "active_users = user_pixel_counts[user_pixel_counts > 10].index\n",
    "final_bot_actions_filtered = final_bot_actions[final_bot_actions['user'].isin(active_users)]"
   ]
  },
  {
   "cell_type": "code",
   "execution_count": null,
   "id": "0aea0f41",
   "metadata": {},
   "outputs": [],
   "source": [
    "def plot_bot_impact(actions):\n",
    "    canvas = np.zeros((1000, 1000, 3), dtype=np.uint8)\n",
    "    for index, row in actions.iterrows():\n",
    "        coords = row['coordinate'].split(',')\n",
    "        if len(coords) != 2:\n",
    "            continue\n",
    "        x, y = map(int, coords)\n",
    "        color_hex = row['pixel_color'].lstrip('#')\n",
    "        color_hex = '{:0>6}'.format(color_hex)\n",
    "        color = tuple(int(color_hex[i:i+2], 16) for i in (0, 2, 4))\n",
    "        canvas[y, x] = color\n",
    "    \n",
    "    plt.figure(figsize=(10, 10))\n",
    "    plt.imshow(canvas)\n",
    "    plt.axis('off')\n",
    "    plt.show()\n",
    "\n",
    "plot_bot_impact(final_bot_actions_filtered)"
   ]
  },
  {
   "cell_type": "code",
   "execution_count": null,
   "id": "cc8ddffd",
   "metadata": {},
   "outputs": [],
   "source": [
    "# Plotting the hourly activity using the filtered data\n",
    "final_bot_actions_filtered['hour'] = final_bot_actions_filtered['timestamp'].dt.hour\n",
    "hourly_activity = final_bot_actions_filtered.groupby('hour').size()\n",
    "hourly_activity.plot(kind='bar', figsize=(10, 6))\n",
    "plt.title('Bot Activity by Hour')\n",
    "plt.xlabel('Hour of Day')\n",
    "plt.ylabel('Number of Pixels Placed')\n",
    "plt.xticks(rotation=0)\n",
    "plt.show()"
   ]
  },
  {
   "cell_type": "code",
   "execution_count": null,
   "id": "09f19746",
   "metadata": {},
   "outputs": [],
   "source": [
    "human_actions = all_data[~all_data['user'].isin(suspected_bot_actions['user'].unique())]\n",
    "human_actions['timestamp'] = dd.to_datetime(human_actions['timestamp'])\n",
    "human_actions['hour'] = human_actions['timestamp'].dt.hour\n",
    "\n",
    "with TqdmCallback(desc=\"Computing human activity by hour\"):\n",
    "    activity_by_hour_human = human_actions.groupby('hour').size().compute()\n",
    "\n",
    "activity_by_hour_human.plot(kind='bar', figsize=(10, 6), color='green')\n",
    "plt.title('Human Activity by Hour')\n",
    "plt.xlabel('Hour of Day')\n",
    "plt.ylabel('Number of Pixels Placed')\n",
    "plt.xticks(rotation=0)\n",
    "plt.show()"
   ]
  },
  {
   "cell_type": "code",
   "execution_count": null,
   "id": "92f5da7b",
   "metadata": {},
   "outputs": [],
   "source": [
    "with TqdmCallback(desc=\"Computing most used colors by humans\"):\n",
    "    most_used_colors_human = human_actions['pixel_color'].value_counts().compute().head(10)\n",
    "\n",
    "most_used_colors_human.plot(kind='bar', color='purple')\n",
    "plt.title('Top 10 Most Used Colors by Humans')\n",
    "plt.xlabel('Color')\n",
    "plt.ylabel('Usage Count')\n",
    "plt.xticks(rotation=45)\n",
    "plt.show()"
   ]
  },
  {
   "cell_type": "code",
   "execution_count": null,
   "id": "46ff53aa",
   "metadata": {},
   "outputs": [],
   "source": [
    "plt.figure(figsize=(12, 6))\n",
    "plt.plot(activity_by_hour_human.index, activity_by_hour_human, label='Humans', color='green')\n",
    "plt.plot(hourly_activity.index, hourly_activity, label='Bots', color='red')\n",
    "plt.title('Human vs Bot Activity by Hour')\n",
    "plt.xlabel('Hour of Day')\n",
    "plt.ylabel('Number of Pixels Placed')\n",
    "plt.legend()\n",
    "plt.xticks(range(0, 24))\n",
    "plt.grid(True)\n",
    "plt.show()"
   ]
  },
  {
   "cell_type": "code",
   "execution_count": null,
   "id": "507b7ebd",
   "metadata": {},
   "outputs": [],
   "source": [
    "all_data['timestamp'] = dd.to_datetime(all_data['timestamp'])\n",
    "all_data['hour'] = all_data['timestamp'].dt.hour\n",
    "\n",
    "# Count pixel placements by hour\n",
    "activity_by_hour = all_data.groupby('hour').size().compute()\n",
    "print(all_data['hour'].value_counts().compute())\n",
    "\n",
    "# Plot\n",
    "activity_by_hour.plot(kind='bar', title='Activity by Hour')\n",
    "plt.xlabel('Hour of Day')\n",
    "plt.ylabel('Number of Pixels Placed')\n",
    "plt.show()"
   ]
  }
 ],
 "metadata": {
  "kernelspec": {
   "display_name": "Python 3 (ipykernel)",
   "language": "python",
   "name": "python3"
  },
  "language_info": {
   "codemirror_mode": {
    "name": "ipython",
    "version": 3
   },
   "file_extension": ".py",
   "mimetype": "text/x-python",
   "name": "python",
   "nbconvert_exporter": "python",
   "pygments_lexer": "ipython3",
   "version": "3.11.4"
  }
 },
 "nbformat": 4,
 "nbformat_minor": 5
}
